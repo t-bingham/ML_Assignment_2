{
 "cells": [
  {
   "cell_type": "code",
   "execution_count": null,
   "metadata": {},
   "outputs": [],
   "source": [
    "import numpy as np\n",
    "import seaborn as sb\n",
    "import pandas as pd\n",
    "\n",
    "\n",
    "\n",
    "root_seed = 50\n",
    "np.random.seed(root_seed)"
   ]
  },
  {
   "cell_type": "markdown",
   "metadata": {},
   "source": [
    "# Section 1\n",
    "\n",
    "- Becoming familiar with tensor based operations and generating synthetic data.\n",
    "- Are input features uninformative? Are the hyper-parameters set correctly? Is there an inherent bug?\n",
    "- Test by passing data with known correct distribution and compare correctness\n",
    "\n",
    "# Problem\n",
    "- This task is a regression task\n",
    "- Use Tensors on Synthetic data I produce\n",
    "- Come up with a mapping function from Rm to Rn, where m and n are set and both are > 3.\n",
    "- Provide the equation of the functions\n",
    "- Add random noise to the output to make the problem more interesting\n",
    "- Ensure underlying function is still recognisable. (20% SNR?)\n",
    "- Be careful of expected value of noise\n",
    "- Pass data to the algorithm to test the output model\n",
    "\n",
    "# Notes\n",
    "- Do not use regression libraries. Must all be implemented using tensors.\n",
    "- Avoid using loops where tensor operations could act on multiple values at once.\n",
    "- Avoid using matrix inverse operators. Use gradients instead.\n",
    "- Be mindful of gradient tracking.\n",
    "- Be sure to generate enough data.\n",
    "- Choose appropriate learning rate\n",
    "- Choose appropriate learning termination criteria."
   ]
  },
  {
   "cell_type": "code",
   "execution_count": 1,
   "metadata": {},
   "outputs": [
    {
     "name": "stdout",
     "output_type": "stream",
     "text": [
      "Hello\n"
     ]
    }
   ],
   "source": [
    "print(\"Hello\")"
   ]
  },
  {
   "cell_type": "markdown",
   "metadata": {},
   "source": [
    "# Section 2\n",
    "\n",
    "- Small scale transfer learning\n",
    "- Train a CNN on a simple problem and try to transfer the learning to ma larger and more difficult problem\n",
    "- USE NN OPTIMISATION FROM pytorch\n",
    "\n",
    "# Problem\n",
    "- Define two network classes\n",
    "    - torchvision.datasets.MNIST\n",
    "    - torchvision.datasets.CIFAR10\n",
    "- Train first network to a good performance\n",
    "- Train second network to observe losses over time (epochs)\n",
    "- Test to see if copying layers from MNIST to CIFAR10 (before training) improves training of the second network.\n",
    "\n",
    "# Notes\n",
    "- Which layers are good to be transfered? (all but last 2?)\n",
    "- How to deal with differing dimensionality?\n",
    "- How to copy objects across?\n",
    "- Presenting findings coherently"
   ]
  },
  {
   "cell_type": "code",
   "execution_count": 2,
   "metadata": {},
   "outputs": [
    {
     "name": "stdout",
     "output_type": "stream",
     "text": [
      "Hi, again\n"
     ]
    }
   ],
   "source": [
    "print (\"Hi, again\")"
   ]
  },
  {
   "cell_type": "code",
   "execution_count": null,
   "metadata": {},
   "outputs": [],
   "source": []
  }
 ],
 "metadata": {
  "kernelspec": {
   "display_name": "Python 3",
   "language": "python",
   "name": "python3"
  },
  "language_info": {
   "codemirror_mode": {
    "name": "ipython",
    "version": 3
   },
   "file_extension": ".py",
   "mimetype": "text/x-python",
   "name": "python",
   "nbconvert_exporter": "python",
   "pygments_lexer": "ipython3",
   "version": "3.7.3"
  }
 },
 "nbformat": 4,
 "nbformat_minor": 2
}
